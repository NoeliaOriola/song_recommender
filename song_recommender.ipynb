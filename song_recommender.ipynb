{
 "cells": [
  {
   "cell_type": "code",
   "execution_count": 9,
   "id": "2cf69932-bd4e-4bec-94f6-71b62419ac92",
   "metadata": {},
   "outputs": [],
   "source": [
    "import sys\n",
    "import config\n",
    "from config import *\n",
    "from bs4 import BeautifulSoup\n",
    "import requests\n",
    "import spotipy\n",
    "from spotipy.oauth2 import SpotifyClientCredentials\n",
    "import pandas as pd\n",
    "import time\n",
    "import numpy as np"
   ]
  },
  {
   "cell_type": "code",
   "execution_count": 10,
   "id": "dc83b838-409f-4862-a2ca-e5ef40affe66",
   "metadata": {},
   "outputs": [],
   "source": [
    "data = pd.read_csv('data_clusters.csv')"
   ]
  },
  {
   "cell_type": "code",
   "execution_count": 11,
   "id": "dbc33da3-f88d-4fcd-a022-2bb5a931deb1",
   "metadata": {},
   "outputs": [],
   "source": [
    "from config import *\n",
    "client_credentials_manager = SpotifyClientCredentials(client_id=client_ID, client_secret=client_secret)\n",
    "sp = spotipy.Spotify(auth_manager=SpotifyClientCredentials(client_id=client_ID,\n",
    "                                                           client_secret=client_secret))"
   ]
  },
  {
   "cell_type": "code",
   "execution_count": 12,
   "id": "cbd91ea7-1e8b-4b25-ba3c-c70824e45269",
   "metadata": {},
   "outputs": [
    {
     "name": "stdin",
     "output_type": "stream",
     "text": [
      "Type in the artist:  rammstein\n",
      "Type in the song name:  sonne\n"
     ]
    }
   ],
   "source": [
    "# Get input from the user\n",
    "artist = input(\"Type in the artist: \")\n",
    "title = input(\"Type in the song name: \")"
   ]
  },
  {
   "cell_type": "code",
   "execution_count": 13,
   "id": "cab9b1cc-e629-4b4f-9218-8fd5d064bb58",
   "metadata": {},
   "outputs": [],
   "source": [
    "def search_song(title, artist, limit):\n",
    "    \n",
    "    try:\n",
    "        results = sp.search(q=f\"{title} {artist}\", type='track', limit=limit)\n",
    "        song_id = results['tracks']['items'][0]['id']\n",
    "        return song_id\n",
    "    except IndexError:\n",
    "        print(\"Song not found!\")\n",
    "        return \"\""
   ]
  },
  {
   "cell_type": "code",
   "execution_count": 14,
   "id": "2e4590a4-2bb1-4fdb-9f54-7d471561187d",
   "metadata": {},
   "outputs": [
    {
     "data": {
      "text/plain": [
       "'4w3R0GZ2rScJMKlgPJzHRq'"
      ]
     },
     "execution_count": 14,
     "metadata": {},
     "output_type": "execute_result"
    }
   ],
   "source": [
    "song_id = search_song(title, artist, 5)\n",
    "song_id"
   ]
  },
  {
   "cell_type": "code",
   "execution_count": 18,
   "id": "925fdcb4-f3da-417d-8bfa-42b678670df6",
   "metadata": {},
   "outputs": [],
   "source": [
    "audio_features = sp.audio_features([song_id])"
   ]
  },
  {
   "cell_type": "code",
   "execution_count": 19,
   "id": "fc916699-1954-4bcc-a553-a6387d3bd54c",
   "metadata": {},
   "outputs": [],
   "source": [
    "audio_features\n",
    "song = pd.DataFrame(audio_features)"
   ]
  },
  {
   "cell_type": "code",
   "execution_count": 20,
   "id": "3280ed94-5c54-4194-ae52-63eaaecb0de4",
   "metadata": {},
   "outputs": [],
   "source": [
    "features=song.select_dtypes(exclude=[object])"
   ]
  },
  {
   "cell_type": "code",
   "execution_count": 21,
   "id": "8aad9c0c-83a9-4034-a039-d5de9adbf25f",
   "metadata": {},
   "outputs": [],
   "source": [
    "columns_to_drop = ['liveness', 'duration_ms', 'time_signature']\n",
    "features.drop(columns=columns_to_drop, inplace=True)"
   ]
  },
  {
   "cell_type": "code",
   "execution_count": 23,
   "id": "c2608c15-6b38-4ed5-aecd-f70fdecb8b72",
   "metadata": {},
   "outputs": [],
   "source": [
    "import pickle\n",
    "\n",
    "scaler_filename = \"./feature_scaler.pickle\"\n",
    "with open(scaler_filename, \"rb\") as file:\n",
    "    scaler = pickle.load(file)\n",
    "\n",
    "user_song_audio_features = scaler.transform(features)\n",
    "user_song_audio_features_df = pd.DataFrame(user_song_audio_features, columns = features.columns)\n",
    "\n",
    "umap_filename = \"./umap.pickle\"\n",
    "with open(umap_filename, \"rb\") as file:\n",
    "    umap = pickle.load(file)\n",
    "\n",
    "user_song_umap = umap.transform(user_song_audio_features_df)\n",
    "user_song_umap_df = pd.DataFrame(user_song_umap, columns=[\"UMAP_1\",\"UMAP_2\"])\n",
    "\n",
    "cluster_model_filename = \"./kmeans.pickle\"\n",
    "with open(cluster_model_filename, \"rb\") as file:   \n",
    "    model = pickle.load(file)\n",
    "user_song_cluster = model.predict(user_song_umap_df)[0]"
   ]
  },
  {
   "cell_type": "code",
   "execution_count": 25,
   "id": "11bfe0f4-b997-4799-bebd-3b49304ccfca",
   "metadata": {},
   "outputs": [
    {
     "name": "stdout",
     "output_type": "stream",
     "text": [
      "Here are songs you may like:\n"
     ]
    },
    {
     "data": {
      "text/html": [
       "<div>\n",
       "<style scoped>\n",
       "    .dataframe tbody tr th:only-of-type {\n",
       "        vertical-align: middle;\n",
       "    }\n",
       "\n",
       "    .dataframe tbody tr th {\n",
       "        vertical-align: top;\n",
       "    }\n",
       "\n",
       "    .dataframe thead th {\n",
       "        text-align: right;\n",
       "    }\n",
       "</style>\n",
       "<table border=\"1\" class=\"dataframe\">\n",
       "  <thead>\n",
       "    <tr style=\"text-align: right;\">\n",
       "      <th></th>\n",
       "      <th>Title</th>\n",
       "      <th>Artists</th>\n",
       "      <th>Spotify_Link</th>\n",
       "    </tr>\n",
       "  </thead>\n",
       "  <tbody>\n",
       "    <tr>\n",
       "      <th>1230</th>\n",
       "      <td>Days That End In Why</td>\n",
       "      <td>Morgan Wallen</td>\n",
       "      <td>https://open.spotify.com/track/4FhxN8PTyjkBVfw...</td>\n",
       "    </tr>\n",
       "    <tr>\n",
       "      <th>195</th>\n",
       "      <td>The A Team</td>\n",
       "      <td>Ed Sheeran</td>\n",
       "      <td>https://open.spotify.com/track/1VdZ0vKfR5jneCm...</td>\n",
       "    </tr>\n",
       "    <tr>\n",
       "      <th>282</th>\n",
       "      <td>Hallelujah</td>\n",
       "      <td>Panic! At The Disco</td>\n",
       "      <td>https://open.spotify.com/track/6TzJLISIitIzn1W...</td>\n",
       "    </tr>\n",
       "    <tr>\n",
       "      <th>1038</th>\n",
       "      <td>Everybody Business</td>\n",
       "      <td>Kehlani</td>\n",
       "      <td>https://open.spotify.com/track/6TrdeNEgbKuBqIT...</td>\n",
       "    </tr>\n",
       "    <tr>\n",
       "      <th>1407</th>\n",
       "      <td>Crossfaded</td>\n",
       "      <td>Don Toliver</td>\n",
       "      <td>https://open.spotify.com/track/2iu60eTIm2py6Ma...</td>\n",
       "    </tr>\n",
       "  </tbody>\n",
       "</table>\n",
       "</div>"
      ],
      "text/plain": [
       "                     Title               Artists  \\\n",
       "1230  Days That End In Why        Morgan Wallen    \n",
       "195             The A Team           Ed Sheeran    \n",
       "282             Hallelujah  Panic! At The Disco    \n",
       "1038    Everybody Business              Kehlani    \n",
       "1407            Crossfaded          Don Toliver    \n",
       "\n",
       "                                           Spotify_Link  \n",
       "1230  https://open.spotify.com/track/4FhxN8PTyjkBVfw...  \n",
       "195   https://open.spotify.com/track/1VdZ0vKfR5jneCm...  \n",
       "282   https://open.spotify.com/track/6TzJLISIitIzn1W...  \n",
       "1038  https://open.spotify.com/track/6TrdeNEgbKuBqIT...  \n",
       "1407  https://open.spotify.com/track/2iu60eTIm2py6Ma...  "
      ]
     },
     "metadata": {},
     "output_type": "display_data"
    }
   ],
   "source": [
    "if song_id in data[data['hot_song']==1]['id'].tolist():\n",
    "    result_1 = data[(data['hot_song']==1) & (data['cluster']== user_song_cluster)].sample(5)\n",
    "    result_1 = pd.DataFrame(result_1)\n",
    "    result_1['Spotify_Link'] = 'https://open.spotify.com/track/' + result_1['id']\n",
    "    output = result_1[['Title', 'Artists', 'Spotify_Link']]\n",
    "    print('Here are songs you may like:')\n",
    "    display(output)\n",
    "else:\n",
    "    result_2 = data[(data['hot_song'] != 1) & (data['cluster']== user_song_cluster)].sample(5)\n",
    "    result_2 = pd.DataFrame(result_2)\n",
    "    result_2['Spotify_Link'] = 'https://open.spotify.com/track/' + result_2['id']\n",
    "    output = result_2[['Title', 'Artists', 'Spotify_Link']]\n",
    "    print('Here are songs you may like:')\n",
    "    display(output)\n",
    "\n",
    "     "
   ]
  },
  {
   "cell_type": "code",
   "execution_count": null,
   "id": "2cabfa93-9ed8-45ef-be63-56de8a9fc523",
   "metadata": {},
   "outputs": [],
   "source": []
  }
 ],
 "metadata": {
  "kernelspec": {
   "display_name": "Python 3 (ipykernel)",
   "language": "python",
   "name": "python3"
  },
  "language_info": {
   "codemirror_mode": {
    "name": "ipython",
    "version": 3
   },
   "file_extension": ".py",
   "mimetype": "text/x-python",
   "name": "python",
   "nbconvert_exporter": "python",
   "pygments_lexer": "ipython3",
   "version": "3.11.5"
  }
 },
 "nbformat": 4,
 "nbformat_minor": 5
}
